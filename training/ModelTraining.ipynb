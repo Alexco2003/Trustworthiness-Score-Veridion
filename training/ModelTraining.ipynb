{
  "nbformat": 4,
  "nbformat_minor": 0,
  "metadata": {
    "colab": {
      "provenance": []
    },
    "kernelspec": {
      "name": "python3",
      "display_name": "Python 3"
    },
    "language_info": {
      "name": "python"
    }
  },
  "cells": [
    {
      "cell_type": "code",
      "execution_count": null,
      "metadata": {
        "id": "uiKOAEyCz1a7"
      },
      "outputs": [],
      "source": [
        "import pandas as pd\n",
        "import numpy as np\n",
        "from sklearn import datasets, linear_model, metrics\n",
        "\n",
        "wanted_cols = {\"domain\", \"website_url\", \"legal_name\", \"business_model\", \"year_founded\", \"agg_industry\", \"phone\", \"modeled_revenue\",\n",
        "               \"location_number\", \"revenue\", \"employee_count\", \"keywords\", \"linkedin\", \"twitter\", \"youtube\",\"facebook\",\n",
        "               \"instagram\"}"
      ]
    },
    {
      "cell_type": "code",
      "source": [
        "inp = pd.read_parquet(\"/content/training_data/part-00000-ac5c3a2a-c89d-4817-8a00-1ba717b8f279-c000.snappy.parquet\")\n",
        "\n",
        "for i in range(1,4):\n",
        "  inp2 = pd.read_parquet(f\"/content/training_data/part-0000{i}-ac5c3a2a-c89d-4817-8a00-1ba717b8f279-c000.snappy.parquet\")\n",
        "  inp = pd.concat([inp, inp2])\n",
        "\n",
        "for col in inp.columns:\n",
        "    if col not in wanted_cols:\n",
        "        del inp[col]\n"
      ],
      "metadata": {
        "id": "vu0gfc98z3rS",
        "colab": {
          "base_uri": "https://localhost:8080/",
          "height": 391
        },
        "outputId": "081898f1-d2cb-4756-b7a2-1d7afbb074e9"
      },
      "execution_count": null,
      "outputs": [
        {
          "output_type": "error",
          "ename": "FileNotFoundError",
          "evalue": "[Errno 2] No such file or directory: '/content/training_data/part-00000-ac5c3a2a-c89d-4817-8a00-1ba717b8f279-c000.snappy.parquet'",
          "traceback": [
            "\u001b[0;31m---------------------------------------------------------------------------\u001b[0m",
            "\u001b[0;31mFileNotFoundError\u001b[0m                         Traceback (most recent call last)",
            "\u001b[0;32m<ipython-input-3-34023e0365e4>\u001b[0m in \u001b[0;36m<cell line: 1>\u001b[0;34m()\u001b[0m\n\u001b[0;32m----> 1\u001b[0;31m \u001b[0minp\u001b[0m \u001b[0;34m=\u001b[0m \u001b[0mpd\u001b[0m\u001b[0;34m.\u001b[0m\u001b[0mread_parquet\u001b[0m\u001b[0;34m(\u001b[0m\u001b[0;34m\"/content/training_data/part-00000-ac5c3a2a-c89d-4817-8a00-1ba717b8f279-c000.snappy.parquet\"\u001b[0m\u001b[0;34m)\u001b[0m\u001b[0;34m\u001b[0m\u001b[0;34m\u001b[0m\u001b[0m\n\u001b[0m\u001b[1;32m      2\u001b[0m \u001b[0;34m\u001b[0m\u001b[0m\n\u001b[1;32m      3\u001b[0m \u001b[0;32mfor\u001b[0m \u001b[0mi\u001b[0m \u001b[0;32min\u001b[0m \u001b[0mrange\u001b[0m\u001b[0;34m(\u001b[0m\u001b[0;36m1\u001b[0m\u001b[0;34m,\u001b[0m\u001b[0;36m4\u001b[0m\u001b[0;34m)\u001b[0m\u001b[0;34m:\u001b[0m\u001b[0;34m\u001b[0m\u001b[0;34m\u001b[0m\u001b[0m\n\u001b[1;32m      4\u001b[0m   \u001b[0minp2\u001b[0m \u001b[0;34m=\u001b[0m \u001b[0mpd\u001b[0m\u001b[0;34m.\u001b[0m\u001b[0mread_parquet\u001b[0m\u001b[0;34m(\u001b[0m\u001b[0;34mf\"/content/training_data/part-0000{i}-ac5c3a2a-c89d-4817-8a00-1ba717b8f279-c000.snappy.parquet\"\u001b[0m\u001b[0;34m)\u001b[0m\u001b[0;34m\u001b[0m\u001b[0;34m\u001b[0m\u001b[0m\n\u001b[1;32m      5\u001b[0m   \u001b[0minp\u001b[0m \u001b[0;34m=\u001b[0m \u001b[0mpd\u001b[0m\u001b[0;34m.\u001b[0m\u001b[0mconcat\u001b[0m\u001b[0;34m(\u001b[0m\u001b[0;34m[\u001b[0m\u001b[0minp\u001b[0m\u001b[0;34m,\u001b[0m \u001b[0minp2\u001b[0m\u001b[0;34m]\u001b[0m\u001b[0;34m)\u001b[0m\u001b[0;34m\u001b[0m\u001b[0;34m\u001b[0m\u001b[0m\n",
            "\u001b[0;32m/usr/local/lib/python3.10/dist-packages/pandas/io/parquet.py\u001b[0m in \u001b[0;36mread_parquet\u001b[0;34m(path, engine, columns, storage_options, use_nullable_dtypes, dtype_backend, **kwargs)\u001b[0m\n\u001b[1;32m    507\u001b[0m     \u001b[0mcheck_dtype_backend\u001b[0m\u001b[0;34m(\u001b[0m\u001b[0mdtype_backend\u001b[0m\u001b[0;34m)\u001b[0m\u001b[0;34m\u001b[0m\u001b[0;34m\u001b[0m\u001b[0m\n\u001b[1;32m    508\u001b[0m \u001b[0;34m\u001b[0m\u001b[0m\n\u001b[0;32m--> 509\u001b[0;31m     return impl.read(\n\u001b[0m\u001b[1;32m    510\u001b[0m         \u001b[0mpath\u001b[0m\u001b[0;34m,\u001b[0m\u001b[0;34m\u001b[0m\u001b[0;34m\u001b[0m\u001b[0m\n\u001b[1;32m    511\u001b[0m         \u001b[0mcolumns\u001b[0m\u001b[0;34m=\u001b[0m\u001b[0mcolumns\u001b[0m\u001b[0;34m,\u001b[0m\u001b[0;34m\u001b[0m\u001b[0;34m\u001b[0m\u001b[0m\n",
            "\u001b[0;32m/usr/local/lib/python3.10/dist-packages/pandas/io/parquet.py\u001b[0m in \u001b[0;36mread\u001b[0;34m(self, path, columns, use_nullable_dtypes, dtype_backend, storage_options, **kwargs)\u001b[0m\n\u001b[1;32m    218\u001b[0m             \u001b[0mto_pandas_kwargs\u001b[0m\u001b[0;34m[\u001b[0m\u001b[0;34m\"split_blocks\"\u001b[0m\u001b[0;34m]\u001b[0m \u001b[0;34m=\u001b[0m \u001b[0;32mTrue\u001b[0m  \u001b[0;31m# type: ignore[assignment]\u001b[0m\u001b[0;34m\u001b[0m\u001b[0;34m\u001b[0m\u001b[0m\n\u001b[1;32m    219\u001b[0m \u001b[0;34m\u001b[0m\u001b[0m\n\u001b[0;32m--> 220\u001b[0;31m         path_or_handle, handles, kwargs[\"filesystem\"] = _get_path_or_handle(\n\u001b[0m\u001b[1;32m    221\u001b[0m             \u001b[0mpath\u001b[0m\u001b[0;34m,\u001b[0m\u001b[0;34m\u001b[0m\u001b[0;34m\u001b[0m\u001b[0m\n\u001b[1;32m    222\u001b[0m             \u001b[0mkwargs\u001b[0m\u001b[0;34m.\u001b[0m\u001b[0mpop\u001b[0m\u001b[0;34m(\u001b[0m\u001b[0;34m\"filesystem\"\u001b[0m\u001b[0;34m,\u001b[0m \u001b[0;32mNone\u001b[0m\u001b[0;34m)\u001b[0m\u001b[0;34m,\u001b[0m\u001b[0;34m\u001b[0m\u001b[0;34m\u001b[0m\u001b[0m\n",
            "\u001b[0;32m/usr/local/lib/python3.10/dist-packages/pandas/io/parquet.py\u001b[0m in \u001b[0;36m_get_path_or_handle\u001b[0;34m(path, fs, storage_options, mode, is_dir)\u001b[0m\n\u001b[1;32m    108\u001b[0m         \u001b[0;31m# fsspec resources can also point to directories\u001b[0m\u001b[0;34m\u001b[0m\u001b[0;34m\u001b[0m\u001b[0m\n\u001b[1;32m    109\u001b[0m         \u001b[0;31m# this branch is used for example when reading from non-fsspec URLs\u001b[0m\u001b[0;34m\u001b[0m\u001b[0;34m\u001b[0m\u001b[0m\n\u001b[0;32m--> 110\u001b[0;31m         handles = get_handle(\n\u001b[0m\u001b[1;32m    111\u001b[0m             \u001b[0mpath_or_handle\u001b[0m\u001b[0;34m,\u001b[0m \u001b[0mmode\u001b[0m\u001b[0;34m,\u001b[0m \u001b[0mis_text\u001b[0m\u001b[0;34m=\u001b[0m\u001b[0;32mFalse\u001b[0m\u001b[0;34m,\u001b[0m \u001b[0mstorage_options\u001b[0m\u001b[0;34m=\u001b[0m\u001b[0mstorage_options\u001b[0m\u001b[0;34m\u001b[0m\u001b[0;34m\u001b[0m\u001b[0m\n\u001b[1;32m    112\u001b[0m         )\n",
            "\u001b[0;32m/usr/local/lib/python3.10/dist-packages/pandas/io/common.py\u001b[0m in \u001b[0;36mget_handle\u001b[0;34m(path_or_buf, mode, encoding, compression, memory_map, is_text, errors, storage_options)\u001b[0m\n\u001b[1;32m    866\u001b[0m         \u001b[0;32melse\u001b[0m\u001b[0;34m:\u001b[0m\u001b[0;34m\u001b[0m\u001b[0;34m\u001b[0m\u001b[0m\n\u001b[1;32m    867\u001b[0m             \u001b[0;31m# Binary mode\u001b[0m\u001b[0;34m\u001b[0m\u001b[0;34m\u001b[0m\u001b[0m\n\u001b[0;32m--> 868\u001b[0;31m             \u001b[0mhandle\u001b[0m \u001b[0;34m=\u001b[0m \u001b[0mopen\u001b[0m\u001b[0;34m(\u001b[0m\u001b[0mhandle\u001b[0m\u001b[0;34m,\u001b[0m \u001b[0mioargs\u001b[0m\u001b[0;34m.\u001b[0m\u001b[0mmode\u001b[0m\u001b[0;34m)\u001b[0m\u001b[0;34m\u001b[0m\u001b[0;34m\u001b[0m\u001b[0m\n\u001b[0m\u001b[1;32m    869\u001b[0m         \u001b[0mhandles\u001b[0m\u001b[0;34m.\u001b[0m\u001b[0mappend\u001b[0m\u001b[0;34m(\u001b[0m\u001b[0mhandle\u001b[0m\u001b[0;34m)\u001b[0m\u001b[0;34m\u001b[0m\u001b[0;34m\u001b[0m\u001b[0m\n\u001b[1;32m    870\u001b[0m \u001b[0;34m\u001b[0m\u001b[0m\n",
            "\u001b[0;31mFileNotFoundError\u001b[0m: [Errno 2] No such file or directory: '/content/training_data/part-00000-ac5c3a2a-c89d-4817-8a00-1ba717b8f279-c000.snappy.parquet'"
          ]
        }
      ]
    },
    {
      "cell_type": "code",
      "source": [
        "indSet = set(np.array(inp[\"agg_industry\"]))"
      ],
      "metadata": {
        "id": "tH4lwlV8QO9O"
      },
      "execution_count": null,
      "outputs": []
    },
    {
      "cell_type": "code",
      "source": [
        "training_data_x = []\n",
        "training_data_y = []\n",
        "\n",
        "categoryCoef = {}"
      ],
      "metadata": {
        "id": "1FsR8UFGZlN3"
      },
      "execution_count": null,
      "outputs": []
    },
    {
      "cell_type": "code",
      "source": [
        "for ind in indSet:\n",
        "  training_data_x.append([[x, y] for x, y in zip(np.array(inp[inp[\"agg_industry\"] == ind][\"revenue\"]),np.array(inp[inp[\"agg_industry\"] == ind][\"location_number\"]))])\n"
      ],
      "metadata": {
        "id": "FrJM1wGM_1HE"
      },
      "execution_count": null,
      "outputs": []
    },
    {
      "cell_type": "code",
      "source": [
        "for ind in indSet:\n",
        "  training_data_y.append(list(inp[inp[\"agg_industry\"] == ind][\"employee_count\"]))"
      ],
      "metadata": {
        "id": "Hgs4yLUAdJEG"
      },
      "execution_count": null,
      "outputs": []
    },
    {
      "cell_type": "code",
      "source": [
        "for i in range(len(training_data_x)):\n",
        "  j = 0\n",
        "  while j < len(training_data_x[i]):\n",
        "    value = training_data_x[i][j]\n",
        "    if value[0] is None or training_data_y[i][j] is None or int(float(training_data_y[i][j])) == 0:\n",
        "      training_data_x[i].remove(training_data_x[i][j])\n",
        "      training_data_y[i].remove(training_data_y[i][j])\n",
        "    else:\n",
        "      j+=1\n",
        "  training_data_x[i] = [[int(float(value[0])), value[1]] for value in training_data_x[i]]\n",
        "  training_data_y[i] = [[int(float(value))] for value in training_data_y[i]]"
      ],
      "metadata": {
        "id": "6tMT-h79px7a"
      },
      "execution_count": null,
      "outputs": []
    },
    {
      "cell_type": "code",
      "source": [
        "all_training_x = [[x,y] for x, y in zip(np.array(inp[\"revenue\"]), np.array(inp[\"location_number\"]))]\n",
        "\n",
        "all_training_y = list(inp[\"employee_count\"])\n",
        "\n",
        "i = 0\n",
        "while i < len(all_training_x):\n",
        "  value = all_training_x[i]\n",
        "  if value[0] is None or all_training_y[i] is None:\n",
        "    all_training_x.remove(all_training_x[i])\n",
        "    all_training_y.remove(all_training_y[i])\n",
        "  else:\n",
        "    i+=1\n",
        "\n",
        "all_training_x = [[int(float(value[0])), value[1]] for value in all_training_x]\n",
        "all_training_y = [[int(float(value))] for value in all_training_y]"
      ],
      "metadata": {
        "id": "Xrz66B5-X6oe"
      },
      "execution_count": null,
      "outputs": []
    },
    {
      "cell_type": "code",
      "source": [
        "generalReg = linear_model.LinearRegression()\n",
        "generalReg.fit(np.array(all_training_x), np.array(all_training_y))\n",
        "\n",
        "print(generalReg.coef_, generalReg.intercept_)\n",
        "print(generalReg.predict([[100000000,10]])-260.28985273)"
      ],
      "metadata": {
        "colab": {
          "base_uri": "https://localhost:8080/",
          "height": 211
        },
        "id": "EGDtpOPSa8aJ",
        "outputId": "7504071d-1380-414d-edcb-badd834097aa"
      },
      "execution_count": null,
      "outputs": [
        {
          "output_type": "error",
          "ename": "NameError",
          "evalue": "name 'linear_model' is not defined",
          "traceback": [
            "\u001b[0;31m---------------------------------------------------------------------------\u001b[0m",
            "\u001b[0;31mNameError\u001b[0m                                 Traceback (most recent call last)",
            "\u001b[0;32m<ipython-input-1-a7f9cf88d255>\u001b[0m in \u001b[0;36m<cell line: 1>\u001b[0;34m()\u001b[0m\n\u001b[0;32m----> 1\u001b[0;31m \u001b[0mgeneralReg\u001b[0m \u001b[0;34m=\u001b[0m \u001b[0mlinear_model\u001b[0m\u001b[0;34m.\u001b[0m\u001b[0mLinearRegression\u001b[0m\u001b[0;34m(\u001b[0m\u001b[0;34m)\u001b[0m\u001b[0;34m\u001b[0m\u001b[0;34m\u001b[0m\u001b[0m\n\u001b[0m\u001b[1;32m      2\u001b[0m \u001b[0mgeneralReg\u001b[0m\u001b[0;34m.\u001b[0m\u001b[0mfit\u001b[0m\u001b[0;34m(\u001b[0m\u001b[0mnp\u001b[0m\u001b[0;34m.\u001b[0m\u001b[0marray\u001b[0m\u001b[0;34m(\u001b[0m\u001b[0mall_training_x\u001b[0m\u001b[0;34m)\u001b[0m\u001b[0;34m,\u001b[0m \u001b[0mnp\u001b[0m\u001b[0;34m.\u001b[0m\u001b[0marray\u001b[0m\u001b[0;34m(\u001b[0m\u001b[0mall_training_y\u001b[0m\u001b[0;34m)\u001b[0m\u001b[0;34m)\u001b[0m\u001b[0;34m\u001b[0m\u001b[0;34m\u001b[0m\u001b[0m\n\u001b[1;32m      3\u001b[0m \u001b[0;34m\u001b[0m\u001b[0m\n\u001b[1;32m      4\u001b[0m \u001b[0mprint\u001b[0m\u001b[0;34m(\u001b[0m\u001b[0mgeneralReg\u001b[0m\u001b[0;34m.\u001b[0m\u001b[0mcoef_\u001b[0m\u001b[0;34m,\u001b[0m \u001b[0mgeneralReg\u001b[0m\u001b[0;34m.\u001b[0m\u001b[0mintercept_\u001b[0m\u001b[0;34m)\u001b[0m\u001b[0;34m\u001b[0m\u001b[0;34m\u001b[0m\u001b[0m\n\u001b[1;32m      5\u001b[0m \u001b[0mprint\u001b[0m\u001b[0;34m(\u001b[0m\u001b[0mgeneralReg\u001b[0m\u001b[0;34m.\u001b[0m\u001b[0mpredict\u001b[0m\u001b[0;34m(\u001b[0m\u001b[0;34m[\u001b[0m\u001b[0;34m[\u001b[0m\u001b[0;36m100000000\u001b[0m\u001b[0;34m,\u001b[0m\u001b[0;36m10\u001b[0m\u001b[0;34m]\u001b[0m\u001b[0;34m]\u001b[0m\u001b[0;34m)\u001b[0m\u001b[0;34m-\u001b[0m\u001b[0;36m260.28985273\u001b[0m\u001b[0;34m)\u001b[0m\u001b[0;34m\u001b[0m\u001b[0;34m\u001b[0m\u001b[0m\n",
            "\u001b[0;31mNameError\u001b[0m: name 'linear_model' is not defined"
          ]
        }
      ]
    },
    {
      "cell_type": "code",
      "source": [
        "for i, key in enumerate(indSet):\n",
        "  reg = linear_model.LinearRegression()\n",
        "  reg.fit(np.array(training_data_x[i]), np.array(training_data_y[i]))\n",
        "\n",
        "  if reg.coef_[0][1] > 0:\n",
        "    categoryCoef[key] = reg.coef_\n",
        "\n",
        "categoryCoef[\"Other\"] = generalReg.coef_"
      ],
      "metadata": {
        "id": "MJIRfAuhwlir"
      },
      "execution_count": null,
      "outputs": []
    },
    {
      "cell_type": "code",
      "source": [
        "print(categoryCoef)"
      ],
      "metadata": {
        "colab": {
          "base_uri": "https://localhost:8080/"
        },
        "id": "zos7vHKnsYGe",
        "outputId": "56df85c5-4070-4f2d-bd6f-435faff0a04e"
      },
      "execution_count": null,
      "outputs": [
        {
          "output_type": "stream",
          "name": "stdout",
          "text": [
            "{'Gas Stations': array([[3.51070606e-07, 2.87708774e-01]]), 'Utillities': array([[-1.27619638e-08,  2.71648842e+00]]), 'Churches': array([[-4.94362002e-10,  6.63730710e-03]]), 'Software & IT Services': array([[-1.16577881e-07,  3.80321441e-01]]), 'Accommodation': array([[-3.58479816e-08,  1.92240776e+00]]), 'Translation & Legal Documents': array([[-4.07307574e-06,  5.16891622e+01]]), 'Minerals & Fuels': array([[-8.99473601e-09,  2.44415130e+01]]), 'Insurance': array([[-2.52630782e-09,  1.12540165e+00]]), 'Grains, Horticulture & Other Farms': array([[-1.01359297e-08,  8.46559730e-01]]), 'Gardens, Parks & Playgrounds': array([[-2.66791278e-08,  2.85502986e+00]]), 'Watches, Jewelry & Accessories': array([[-4.50727739e-10,  1.67810675e-03]]), 'Processed Metal': array([[2.34911427e-08, 2.95430399e+00]]), 'General Contractors & Heavy Construction': array([[-2.13483856e-08,  6.31244248e-02]]), 'Animal Farming & Poultry': array([[-7.46760666e-10,  4.32276461e+01]]), 'Associations': array([[-4.03935840e-09,  4.88162889e-02]]), 'Cosmetic Products': array([[-1.53667526e-08,  1.02469536e-01]]), 'Graphic Design': array([[-8.27257528e-08,  4.01669618e+00]]), 'Auto Parts': array([[-2.05429858e-07,  2.58079509e-01]]), 'Government': array([[-1.48780868e-09,  1.04749599e-01]]), 'Engineering Services': array([[-4.09798129e-07,  1.25720264e+01]]), 'Roadside Assistance': array([[3.22708172e-06, 3.56555451e+00]]), 'Restaurants': array([[-9.49892589e-08,  7.65696698e-03]]), 'Entertainment': array([[7.58026939e-08, 3.00954252e+00]]), 'Aerospace and Defence': array([[-1.40140683e-07,  4.17917851e+01]]), 'Telecommunication Services': array([[1.55968407e-08, 2.92649116e+03]]), 'Building Contractors': array([[-1.51075351e-07,  6.39672470e-01]]), 'HR Services': array([[-5.9615058e-08,  4.5185726e+00]]), 'Footwear': array([[-3.10392404e-06,  2.04705483e+02]]), 'Ophthalmic & Optical Instruments & Lenses': array([[4.68124326e-07, 3.70258819e+00]]), 'Professional Schools': array([[-1.58240629e-07,  9.53279372e-03]]), 'Books Printing & Stores': array([[-2.07999205e-09,  8.05760654e+00]]), 'Rubber & Plastics': array([[-1.47339826e-07,  6.43217784e-01]]), 'Recreational Sports Centers': array([[-9.32606161e-08,  2.29979789e-01]]), 'Libraries': array([[2.75878468e-07, 3.01137032e-01]]), 'Dentists & Dental Clinics': array([[-2.03742816e-08,  1.42607999e+00]]), 'Food Producers & Distributors': array([[-2.22030494e-07,  6.42284961e+00]]), 'Detectives & Investigation Services': array([[-6.94628526e-07,  1.42092863e+01]]), 'Other Durable Products': array([[-2.66154929e-08,  6.19621401e+00]]), 'Renewable energy': array([[-1.04212362e-08,  1.83263124e-01]]), 'Real Estate Investment & Rental': array([[-3.68218852e-07,  1.37586946e+00]]), 'Finishing Contractors': array([[-1.39569471e-08,  3.00281598e+00]]), 'Rental, Repair & Maintenance': array([[8.42556618e-07, 7.28856917e-01]]), 'Social Services': array([[5.30679162e-07, 7.85673851e-01]]), 'Marketing & Advertising Agencies': array([[-1.53673016e-07,  3.01457619e+01]]), 'Aquaculture, Fishing & Hunting': array([[3.17442714e-06, 7.97132476e-01]]), 'Travel Agencies': array([[4.90923117e-10, 6.06510984e-01]]), 'Other': array([[-9.71586095e-10,  1.55544953e-03]])}\n"
          ]
        }
      ]
    },
    {
      "cell_type": "code",
      "source": [
        "print([len(value) for value in training_data_x])"
      ],
      "metadata": {
        "colab": {
          "base_uri": "https://localhost:8080/"
        },
        "id": "wL1TdbheNmmH",
        "outputId": "fde5880b-3ea7-45aa-c85b-fbe222f8d23c"
      },
      "execution_count": null,
      "outputs": [
        {
          "output_type": "stream",
          "name": "stdout",
          "text": [
            "[26, 229, 59, 197, 1183, 521, 274, 935, 308, 19, 107, 269, 125, 1955, 449, 284, 143, 749, 181, 97, 116, 94, 1111, 633, 47, 962, 83, 175, 236, 147, 547, 139, 86, 1218, 184, 4507, 292, 164, 108, 38, 114, 10, 877, 589, 229, 52, 164, 464, 78, 122, 70, 36, 287, 821, 39, 146, 63, 3, 196, 71, 108, 58, 55, 196, 709, 374, 108, 207, 449, 122, 388, 80, 155, 87, 204, 60, 195, 222, 15, 364, 508, 101, 79, 135, 446, 122, 330, 9, 59, 98, 458, 40, 202, 50, 137, 173, 283, 90, 987, 404, 238, 122, 301, 251, 61, 161, 124, 360, 156, 144, 107, 20, 241, 365, 143, 147]\n"
          ]
        }
      ]
    },
    {
      "cell_type": "code",
      "source": [
        "print(np.size(inp))"
      ],
      "metadata": {
        "colab": {
          "base_uri": "https://localhost:8080/"
        },
        "id": "VT5yXM6SXUhn",
        "outputId": "96bce58d-0e33-4235-9c67-425b0ab206c8"
      },
      "execution_count": null,
      "outputs": [
        {
          "output_type": "stream",
          "name": "stdout",
          "text": [
            "2448000\n"
          ]
        }
      ]
    }
  ]
}